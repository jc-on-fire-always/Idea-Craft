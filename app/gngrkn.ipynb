{
 "cells": [
  {
   "cell_type": "code",
   "execution_count": null,
   "metadata": {
    "vscode": {
     "languageId": "plaintext"
    }
   },
   "outputs": [],
   "source": [
    "import pandas as pd\n",
    "import matplotlib.pyplot as plt\n",
    "\n",
    "# Load the dataset\n",
    "# Replace 'your_file.csv' with the path to your CSV file\n",
    "data = pd.read_csv('your_file.csv')\n",
    "\n",
    "# 1. Compute correlation between RidePer and Top10\n",
    "correlation = data['RidePer'].corr(data['Top10'])\n",
    "print(f\"Correlation between RidePer and Top10: {correlation:.3f}\")\n",
    "\n",
    "# 2. Describe the distribution of RidePer (Descriptive statistics)\n",
    "rideper_stats = data['RidePer'].describe()\n",
    "print(\"Descriptive statistics for RidePer:\")\n",
    "print(rideper_stats)\n",
    "\n",
    "# Plot histogram for RidePer\n",
    "data['RidePer'].plot(kind='hist', bins=10, title='Distribution of RidePer', color='skyblue', edgecolor='black')\n",
    "plt.xlabel('RidePer')\n",
    "plt.ylabel('Frequency')\n",
    "plt.show()\n",
    "\n",
    "# 3. Average percentage of time riders stayed on the bull\n",
    "average_rideper = data['RidePer'].mean() * 100\n",
    "print(f\"On average, riders stayed on their bull {average_rideper:.0f}% of the time.\")\n",
    "\n",
    "# 4. Count riders who stayed on their bull more than 60% of the time\n",
    "riders_above_60 = data[data['RidePer'] > 0.60]\n",
    "print(f\"Number of riders who stayed on their bull more than 60% of the time: {len(riders_above_60)}\")\n",
    "\n",
    "# 5. Scatterplot to confirm the linear relationship\n",
    "plt.scatter(data['RidePer'], data['Top10'], color='blue', edgecolor='black')\n",
    "plt.title('Scatterplot of RidePer vs Top10')\n",
    "plt.xlabel('RidePer (Percentage of Successful Rides)')\n",
    "plt.ylabel('Top10 Appearances')\n",
    "plt.axhline(y=data['Top10'].mean(), color='red', linestyle='--', label='Mean Top10')\n",
    "plt.axvline(x=data['RidePer'].mean(), color='green', linestyle='--', label='Mean RidePer')\n",
    "plt.legend()\n",
    "plt.show()\n",
    "\n",
    "# 6. Check residual for the rider with 53% RidePer and 5 Top10 appearances\n",
    "outlier = data[(data['RidePer'] == 0.53) & (data['Top10'] == 5)]\n",
    "if not outlier.empty:\n",
    "    print(\"Outlier identified:\")\n",
    "    print(outlier)\n",
    "else:\n",
    "    print(\"No exact outlier found with RidePer = 0.53 and Top10 = 5.\")\n",
    "\n",
    "# 7. Predict Top10 appearances based on the line of best fit\n",
    "from scipy.stats import linregress\n",
    "\n",
    "slope, intercept, r_value, p_value, std_err = linregress(data['RidePer'], data['Top10'])\n",
    "expected_top10 = slope * 0.53 + intercept\n",
    "print(f\"If the rider followed the line of best fit, he should have placed in the Top 10 about {expected_top10:.0f} times.\")\n"
   ]
  },
  {
   "cell_type": "code",
   "execution_count": null,
   "metadata": {
    "vscode": {
     "languageId": "plaintext"
    }
   },
   "outputs": [],
   "source": []
  }
 ],
 "metadata": {
  "language_info": {
   "name": "python"
  }
 },
 "nbformat": 4,
 "nbformat_minor": 2
}
